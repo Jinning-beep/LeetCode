{
 "cells": [
  {
   "cell_type": "markdown",
   "metadata": {},
   "source": [
    "# Integer to Roman\n",
    "Roman numerals are represented by seven different symbols: I, V, X, L, C, D and M.\n",
    "\n",
    "| Symbol  |      Value     |\n",
    "|----------|:-------------:|\n",
    "| I |  1 |\n",
    "| V |   5   |\n",
    "| X | 10 |\n",
    "|L|50|\n",
    "|C|100|\n",
    "|D|500|\n",
    "|M|1000|\n",
    "\n",
    "For example, two is written as `II` in Roman numeral, just two one's added together. Twelve is written as, `XII`, which is simply `X + II`. The number twenty seven is written as `XXVII`, which is `XX + V + II`.\n",
    "\n",
    "Roman numerals are usually written largest to smallest from left to right. However, the numeral for four is not `IIII`. Instead, the number four is written as `IV`. Because the one is before the five we subtract it making four. The same principle applies to the number nine, which is written as IX. There are six instances where subtraction is used:\n",
    "\n",
    "`I` can be placed before `V` (5) and `X` (10) to make 4 and 9. \n",
    "`X` can be placed before `L` (50) and `C` (100) to make 40 and 90. \n",
    "`C` can be placed before `D` (500) and `M `(1000) to make 400 and 900.\n",
    "Given an integer, convert it to a roman numeral. Input is guaranteed to be within the range from 1 to 3999.\n",
    "\n",
    "Example 1:\n",
    "```\n",
    "Input: 3\n",
    "Output: \"III\"\n",
    "```\n",
    "\n",
    "Example 2:\n",
    "```\n",
    "Input: 4\n",
    "Output: \"IV\"\n",
    "```\n",
    "\n",
    "Example 3:\n",
    "```\n",
    "Input: 9\n",
    "Output: \"IX\"\n",
    "```\n",
    "\n",
    "Example 4:\n",
    "```\n",
    "Input: 58\n",
    "Output: \"LVIII\"\n",
    "Explanation: L = 50, V = 5, III = 3.\n",
    "```\n",
    "\n",
    "Example 5:\n",
    "```\n",
    "Input: 1994\n",
    "Output: \"MCMXCIV\"\n",
    "Explanation: M = 1000, CM = 900, XC = 90 and IV = 4.\n",
    "```"
   ]
  },
  {
   "cell_type": "code",
   "execution_count": 18,
   "metadata": {},
   "outputs": [
    {
     "name": "stdout",
     "output_type": "stream",
     "text": [
      "III\n"
     ]
    }
   ],
   "source": [
    "def intToRoman(self, num: int) -> str:\n",
    "    units = {0:'',1:'I',2:'II',3:'III',4:'IV',5:'V',6:'VI',7:'VII',8:'VIII',9:'IX'}\n",
    "    tens = {0:'',1:'X',2:'XX',3:'XXX',4:'XL',5:'L',6:'LX',7:'LXX',8:'LXXX',9:'XC'}\n",
    "    hundreds = {0:'',1:'C',2:'CC',3:'CCC',4:'CD',5:'D',6:'DC',7:'DCC',8:'DCCC',9:'CM'}\n",
    "    thousands = {0:'',1:'M',2:'MM',3:'MMM'}\n",
    "    All_roman = [units,tens,hundreds,thousands]\n",
    "    Roman_num = ''\n",
    "    for i in All_roman:\n",
    "        num,index = divmod(num,10)\n",
    "        Roman_num = i[index] + Roman_num\n",
    "    return Roman_num"
   ]
  },
  {
   "cell_type": "code",
   "execution_count": null,
   "metadata": {},
   "outputs": [],
   "source": []
  }
 ],
 "metadata": {
  "kernelspec": {
   "display_name": "Python 3",
   "language": "python",
   "name": "python3"
  },
  "language_info": {
   "codemirror_mode": {
    "name": "ipython",
    "version": 3
   },
   "file_extension": ".py",
   "mimetype": "text/x-python",
   "name": "python",
   "nbconvert_exporter": "python",
   "pygments_lexer": "ipython3",
   "version": "3.7.3"
  }
 },
 "nbformat": 4,
 "nbformat_minor": 2
}
