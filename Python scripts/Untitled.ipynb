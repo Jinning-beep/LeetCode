{
 "cells": [
  {
   "cell_type": "markdown",
   "metadata": {},
   "source": [
    "## 4Sum\n",
    "Given an array nums of n integers and an integer target, are there elements a, b, c, and d in nums such that a + b + c + d = target? Find all unique quadruplets in the array which gives the sum of target.\n",
    "\n",
    "\n",
    "**Note:**\n",
    "\n",
    "The solution set must not contain duplicate quadruplets.\n",
    "\n",
    "Example:\n",
    "```\n",
    "Given array nums = [1, 0, -1, 0, -2, 2], and target = 0.\n",
    "\n",
    "A solution set is:\n",
    "[\n",
    "  [-1,  0, 0, 1],\n",
    "  [-2, -1, 1, 2],\n",
    "  [-2,  0, 0, 2]\n",
    "]\n",
    "```\n"
   ]
  },
  {
   "cell_type": "markdown",
   "metadata": {},
   "source": [
    "sort nums\n",
    "res = []\n",
    "\n",
    "left, subleft, subright, right\n",
    "    if left + subleft + subright + right == target:\n",
    "            res.append([left, subleft, subright, right])\n",
    "        if left + subleft + subright + right > target:\n",
    "            if subright != subleft:\n",
    "                subright = subright - 1\n",
    "            elif right != subleft + 1:\n",
    "                right = right - 1\n",
    "                subright = right - 1\n",
    "        else left + subleft + subright + right < target:\n",
    "            if subleft != subright:\n",
    "                subleft = subleft + 1\n",
    "            elif left != subright - 1:\n",
    "                left = left + 1\n",
    "                subleft = left + 1\n"
   ]
  },
  {
   "cell_type": "code",
   "execution_count": 26,
   "metadata": {},
   "outputs": [],
   "source": [
    " def fourSum(nums, target):\n",
    "        res = []\n",
    "        nums.sort()\n",
    "        l,l2,r2, r = 0,1, len(nums)-2, len(nums)-1\n",
    "        for l in range(0,len(nums)-2):\n",
    "            while nums[l]+ nums[l2]+ nums[r2]+nums[r] > target:\n",
    "                if r2 != l2:\n",
    "                    r2 -= 1\n",
    "                elif r != l2+1:\n",
    "                    r -= 1\n",
    "                    r2 = r-1\n",
    "            while nums[l] + nums[l2]+ nums[r2]+nums[r] < target:\n",
    "                if l2 != r2:\n",
    "                    l2 += 1\n",
    "                elif l != r2-1:\n",
    "                    l += 1\n",
    "                    l2 = l-1\n",
    "            if nums[l]+ nums[l2]+ nums[r2]+nums[r] == target:\n",
    "                res.append([nums[l],nums[l2],nums[r2],nums[r]])\n",
    "            return res"
   ]
  },
  {
   "cell_type": "code",
   "execution_count": 28,
   "metadata": {},
   "outputs": [
    {
     "data": {
      "text/plain": [
       "[[-5, 0, 4, 5]]"
      ]
     },
     "execution_count": 28,
     "metadata": {},
     "output_type": "execute_result"
    }
   ],
   "source": [
    "nums = [-5,5,4,-3,0,0,4,-2]\n",
    "target = 4\n",
    "fourSum(nums,target)"
   ]
  },
  {
   "cell_type": "code",
   "execution_count": 122,
   "metadata": {},
   "outputs": [],
   "source": [
    "def firstMissingPositive(nums):\n",
    "        nums.sort()\n",
    "        if nums == [1]: return 2\n",
    "        if 1 in nums:\n",
    "            for i in range(1,nums[-1]+2):\n",
    "                print(i)\n",
    "                if not i in nums:\n",
    "                    return i\n",
    "        else: return 1"
   ]
  },
  {
   "cell_type": "code",
   "execution_count": 131,
   "metadata": {},
   "outputs": [
    {
     "name": "stdout",
     "output_type": "stream",
     "text": [
      "1\n",
      "2\n"
     ]
    },
    {
     "data": {
      "text/plain": [
       "2"
      ]
     },
     "execution_count": 131,
     "metadata": {},
     "output_type": "execute_result"
    }
   ],
   "source": [
    "nums = [-1,1,3]\n",
    "firstMissingPositive(nums)"
   ]
  },
  {
   "cell_type": "markdown",
   "metadata": {},
   "source": [
    "# 123456 -> 7\n",
    "# -20234 -> 1\n",
    "# 12345 -> 6\n",
    "# if contain 1:\n",
    "# for i in range(0,len(nums)-1):\n",
    "#     if num[i] >=0 :\n",
    "\n",
    "    # if num[i]\n",
    "# else: 1"
   ]
  },
  {
   "cell_type": "code",
   "execution_count": null,
   "metadata": {},
   "outputs": [],
   "source": []
  },
  {
   "cell_type": "code",
   "execution_count": null,
   "metadata": {},
   "outputs": [],
   "source": []
  }
 ],
 "metadata": {
  "kernelspec": {
   "display_name": "Python 3",
   "language": "python",
   "name": "python3"
  },
  "language_info": {
   "codemirror_mode": {
    "name": "ipython",
    "version": 3
   },
   "file_extension": ".py",
   "mimetype": "text/x-python",
   "name": "python",
   "nbconvert_exporter": "python",
   "pygments_lexer": "ipython3",
   "version": "3.7.3"
  }
 },
 "nbformat": 4,
 "nbformat_minor": 2
}
